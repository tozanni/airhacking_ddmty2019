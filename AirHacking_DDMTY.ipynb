{
  "nbformat": 4,
  "nbformat_minor": 0,
  "metadata": {
    "kernelspec": {
      "display_name": "Python 3",
      "language": "python",
      "name": "python3"
    },
    "language_info": {
      "codemirror_mode": {
        "name": "ipython",
        "version": 3
      },
      "file_extension": ".py",
      "mimetype": "text/x-python",
      "name": "python",
      "nbconvert_exporter": "python",
      "pygments_lexer": "ipython3",
      "version": "3.7.4"
    },
    "colab": {
      "name": "AirHacking_DDMTY.ipynb",
      "provenance": []
    }
  },
  "cells": [
    {
      "cell_type": "code",
      "metadata": {
        "id": "u8hjh10_G-l0",
        "colab_type": "code",
        "colab": {}
      },
      "source": [
        "import pandas as pd\n",
        "import json\n"
      ],
      "execution_count": 0,
      "outputs": []
    },
    {
      "cell_type": "markdown",
      "metadata": {
        "id": "rUrtW0lwG-l8",
        "colab_type": "text"
      },
      "source": [
        "## Análisis de Datos de calidad del Aire usando Python\n",
        "\n",
        "Eduardo H. Ramirez (eduardo@ensitech.com)\n",
        "\n",
        "\n",
        "\n",
        "### 1. Referencia del listado de campos\n",
        "\n",
        "https://docs.google.com/document/d/15ijz94dXJ-YAZLi9iZ_RaBwrZ4KtYeCy08goGBwnbCU/edit\n",
        "\n",
        "\n",
        "### 2. Leer PurpleAir.json\n",
        "\n",
        "Es necesario entrar al mapa ( https://www.purpleair.com/map?mylocation ) y usar el inspector de Chrome para obtener el ID del sensor (json?show=ID)\n"
      ]
    },
    {
      "cell_type": "markdown",
      "metadata": {
        "id": "zWEM13WbG-l8",
        "colab_type": "text"
      },
      "source": [
        "![title](https://raw.githubusercontent.com/tozanni/airhacking_ddmty2019/master/obtener-json.png)"
      ]
    },
    {
      "cell_type": "code",
      "metadata": {
        "id": "XIyazAGgG-l9",
        "colab_type": "code",
        "colab": {}
      },
      "source": [
        "j = pd.read_json(\"https://www.purpleair.com/json?show=31843\")\n"
      ],
      "execution_count": 0,
      "outputs": []
    },
    {
      "cell_type": "code",
      "metadata": {
        "id": "ViGDOKotG-mA",
        "colab_type": "code",
        "colab": {
          "base_uri": "https://localhost:8080/",
          "height": 111
        },
        "outputId": "ec67c30f-f015-4798-8107-4d0b6e58bae1"
      },
      "source": [
        "j"
      ],
      "execution_count": 3,
      "outputs": [
        {
          "output_type": "execute_result",
          "data": {
            "text/html": [
              "<div>\n",
              "<style scoped>\n",
              "    .dataframe tbody tr th:only-of-type {\n",
              "        vertical-align: middle;\n",
              "    }\n",
              "\n",
              "    .dataframe tbody tr th {\n",
              "        vertical-align: top;\n",
              "    }\n",
              "\n",
              "    .dataframe thead th {\n",
              "        text-align: right;\n",
              "    }\n",
              "</style>\n",
              "<table border=\"1\" class=\"dataframe\">\n",
              "  <thead>\n",
              "    <tr style=\"text-align: right;\">\n",
              "      <th></th>\n",
              "      <th>mapVersion</th>\n",
              "      <th>baseVersion</th>\n",
              "      <th>mapVersionString</th>\n",
              "      <th>results</th>\n",
              "    </tr>\n",
              "  </thead>\n",
              "  <tbody>\n",
              "    <tr>\n",
              "      <th>0</th>\n",
              "      <td>0.2</td>\n",
              "      <td>7</td>\n",
              "      <td></td>\n",
              "      <td>{'ID': 31843, 'Label': 'Nuevo Sur', 'DEVICE_LO...</td>\n",
              "    </tr>\n",
              "    <tr>\n",
              "      <th>1</th>\n",
              "      <td>0.2</td>\n",
              "      <td>7</td>\n",
              "      <td></td>\n",
              "      <td>{'ID': 31844, 'ParentID': 31843, 'Label': 'Nue...</td>\n",
              "    </tr>\n",
              "  </tbody>\n",
              "</table>\n",
              "</div>"
            ],
            "text/plain": [
              "   mapVersion  ...                                            results\n",
              "0         0.2  ...  {'ID': 31843, 'Label': 'Nuevo Sur', 'DEVICE_LO...\n",
              "1         0.2  ...  {'ID': 31844, 'ParentID': 31843, 'Label': 'Nue...\n",
              "\n",
              "[2 rows x 4 columns]"
            ]
          },
          "metadata": {
            "tags": []
          },
          "execution_count": 3
        }
      ]
    },
    {
      "cell_type": "markdown",
      "metadata": {
        "id": "4G66DtZrG-mD",
        "colab_type": "text"
      },
      "source": [
        "Los resultados vienen por duplicados ya que cada equipo tiene dos sensores por redundancia. \n",
        "\n",
        "Posteriormente, cada sensor tiene dos canales de datos (Primary y Secondary), esto por limitaciones del API de Thingspeak.\n",
        "\n",
        "Nos interesa principalmente obtener los siguientes datos:\n",
        "\n",
        "- **THINGSPEAK_PRIMARY_ID**: ID del canal primario de datos.\n",
        " \n",
        "- **THINGSPEAK_PRIMARY_ID_READ_KEY**: Llave de lectura para Thingspeak\n"
      ]
    },
    {
      "cell_type": "code",
      "metadata": {
        "scrolled": true,
        "id": "ZurZ6dJIG-mE",
        "colab_type": "code",
        "colab": {
          "base_uri": "https://localhost:8080/",
          "height": 680
        },
        "outputId": "06a3ecc5-9857-4890-f014-4d2e7f39e64e"
      },
      "source": [
        "# Sensor primario\n",
        "j.loc[0][\"results\"]"
      ],
      "execution_count": 4,
      "outputs": [
        {
          "output_type": "execute_result",
          "data": {
            "text/plain": [
              "{'AGE': 1,\n",
              " 'Adc': '0.02',\n",
              " 'Created': 1557767298,\n",
              " 'DEVICE_BRIGHTNESS': '15',\n",
              " 'DEVICE_HARDWAREDISCOVERED': '2.0+BME280+PMSX003-B+PMSX003-A',\n",
              " 'DEVICE_LOCATIONTYPE': 'outside',\n",
              " 'Hidden': 'false',\n",
              " 'ID': 31843,\n",
              " 'Label': 'Nuevo Sur',\n",
              " 'LastSeen': 1573621163,\n",
              " 'LastUpdateCheck': 1573618282,\n",
              " 'Lat': 25.652478,\n",
              " 'Lon': -100.27323,\n",
              " 'PM2_5Value': '7.01',\n",
              " 'RSSI': '-67',\n",
              " 'Stats': '{\"v\":7.01,\"v1\":6.81,\"v2\":7.03,\"v3\":7.7,\"v4\":10.94,\"v5\":19.15,\"v6\":18.44,\"pm\":7.01,\"lastModified\":1573621163846,\"timeSinceModified\":120062}',\n",
              " 'THINGSPEAK_PRIMARY_ID': '779958',\n",
              " 'THINGSPEAK_PRIMARY_ID_READ_KEY': 'I93BJE92YBMDS6D5',\n",
              " 'THINGSPEAK_SECONDARY_ID': '779959',\n",
              " 'THINGSPEAK_SECONDARY_ID_READ_KEY': '4GZZP2LIK2X8G5L0',\n",
              " 'Type': 'PMS5003+PMS5003+BME280',\n",
              " 'Uptime': '1907399',\n",
              " 'Version': '4.11',\n",
              " 'humidity': '47',\n",
              " 'isOwner': 0,\n",
              " 'p_0_3_um': '1065.83',\n",
              " 'p_0_5_um': '308.67',\n",
              " 'p_10_0_um': '0.01',\n",
              " 'p_1_0_um': '35.93',\n",
              " 'p_2_5_um': '1.57',\n",
              " 'p_5_0_um': '0.01',\n",
              " 'pm10_0_atm': '7.23',\n",
              " 'pm10_0_cf_1': '7.23',\n",
              " 'pm1_0_atm': '5.28',\n",
              " 'pm1_0_cf_1': '5.28',\n",
              " 'pm2_5_atm': '7.01',\n",
              " 'pm2_5_cf_1': '7.01',\n",
              " 'pressure': '970.79',\n",
              " 'temp_f': '51'}"
            ]
          },
          "metadata": {
            "tags": []
          },
          "execution_count": 4
        }
      ]
    },
    {
      "cell_type": "code",
      "metadata": {
        "id": "smvELclHG-mH",
        "colab_type": "code",
        "colab": {
          "base_uri": "https://localhost:8080/",
          "height": 510
        },
        "outputId": "4be6672c-a2b5-4987-95b2-8a06e9ac8570"
      },
      "source": [
        "# Sensor secundario\n",
        "j.loc[1][\"results\"]"
      ],
      "execution_count": 5,
      "outputs": [
        {
          "output_type": "execute_result",
          "data": {
            "text/plain": [
              "{'AGE': 1,\n",
              " 'Adc': '0.02',\n",
              " 'Created': 1557767298,\n",
              " 'Hidden': 'false',\n",
              " 'ID': 31844,\n",
              " 'Label': 'Nuevo Sur B',\n",
              " 'LastSeen': 1573621163,\n",
              " 'Lat': 25.652478,\n",
              " 'Lon': -100.27323,\n",
              " 'PM2_5Value': '6.91',\n",
              " 'ParentID': 31843,\n",
              " 'Stats': '{\"v\":6.91,\"v1\":6.82,\"v2\":7.02,\"v3\":7.63,\"v4\":10.78,\"v5\":18.87,\"v6\":17.97,\"pm\":6.91,\"lastModified\":1573621163846,\"timeSinceModified\":120062}',\n",
              " 'THINGSPEAK_PRIMARY_ID': '779960',\n",
              " 'THINGSPEAK_PRIMARY_ID_READ_KEY': 'M9S9QIAAXXTM46DW',\n",
              " 'THINGSPEAK_SECONDARY_ID': '779961',\n",
              " 'THINGSPEAK_SECONDARY_ID_READ_KEY': '15JY1JNZ57GF8YPT',\n",
              " 'isOwner': 0,\n",
              " 'p_0_3_um': '1130.05',\n",
              " 'p_0_5_um': '315.33',\n",
              " 'p_10_0_um': '0.0',\n",
              " 'p_1_0_um': '35.59',\n",
              " 'p_2_5_um': '1.97',\n",
              " 'p_5_0_um': '0.47',\n",
              " 'pm10_0_atm': '7.5',\n",
              " 'pm10_0_cf_1': '7.5',\n",
              " 'pm1_0_atm': '5.32',\n",
              " 'pm1_0_cf_1': '5.32',\n",
              " 'pm2_5_atm': '6.91',\n",
              " 'pm2_5_cf_1': '6.91'}"
            ]
          },
          "metadata": {
            "tags": []
          },
          "execution_count": 5
        }
      ]
    },
    {
      "cell_type": "markdown",
      "metadata": {
        "id": "HWV9fX3-G-mJ",
        "colab_type": "text"
      },
      "source": [
        "Para verificar la confiabilidad del equipo hay que comparar las lecturas de sus dos sensores internos y validar que sean similares con (Stats)\n",
        "\n",
        "\n",
        "### Lectura usando el API de Thingspeak\n",
        "\n",
        "https://thingspeak.readthedocs.io/en/latest/api.html\n",
        "    \n",
        "\n",
        "#### Opciones\n",
        "\n",
        "https://la.mathworks.com/help/thingspeak/readdata.html\n",
        "    "
      ]
    },
    {
      "cell_type": "code",
      "metadata": {
        "id": "lEGEwSQlG-mK",
        "colab_type": "code",
        "colab": {
          "base_uri": "https://localhost:8080/",
          "height": 187
        },
        "outputId": "73cc7277-1fc1-4b2f-a67e-c371190275ec"
      },
      "source": [
        "!pip install thingspeak"
      ],
      "execution_count": 7,
      "outputs": [
        {
          "output_type": "stream",
          "text": [
            "Collecting thingspeak\n",
            "  Downloading https://files.pythonhosted.org/packages/98/ed/45d9c40622dc772943cfc30f7c0d46e4e12b2c2c72ca6bd8f461564f15b0/thingspeak-1.0.0-py3-none-any.whl\n",
            "Requirement already satisfied: docopt<0.7.0,>=0.6.2 in /usr/local/lib/python3.6/dist-packages (from thingspeak) (0.6.2)\n",
            "Requirement already satisfied: requests<3.0,>=2.21 in /usr/local/lib/python3.6/dist-packages (from thingspeak) (2.21.0)\n",
            "Requirement already satisfied: idna<2.9,>=2.5 in /usr/local/lib/python3.6/dist-packages (from requests<3.0,>=2.21->thingspeak) (2.8)\n",
            "Requirement already satisfied: chardet<3.1.0,>=3.0.2 in /usr/local/lib/python3.6/dist-packages (from requests<3.0,>=2.21->thingspeak) (3.0.4)\n",
            "Requirement already satisfied: certifi>=2017.4.17 in /usr/local/lib/python3.6/dist-packages (from requests<3.0,>=2.21->thingspeak) (2019.9.11)\n",
            "Requirement already satisfied: urllib3<1.25,>=1.21.1 in /usr/local/lib/python3.6/dist-packages (from requests<3.0,>=2.21->thingspeak) (1.24.3)\n",
            "Installing collected packages: thingspeak\n",
            "Successfully installed thingspeak-1.0.0\n"
          ],
          "name": "stdout"
        }
      ]
    },
    {
      "cell_type": "code",
      "metadata": {
        "id": "ujZwt1aWI9ne",
        "colab_type": "code",
        "colab": {}
      },
      "source": [
        "import thingspeak\n"
      ],
      "execution_count": 0,
      "outputs": []
    },
    {
      "cell_type": "code",
      "metadata": {
        "id": "kTVIZtHUG-mM",
        "colab_type": "code",
        "colab": {}
      },
      "source": [
        "## Obtener el channel ID y read_key del resultado previo\n",
        "\n",
        "channel_id = j.loc[1][\"results\"][\"THINGSPEAK_PRIMARY_ID\"]\n",
        "read_key = j.loc[1][\"results\"][\"THINGSPEAK_PRIMARY_ID_READ_KEY\"]\n",
        "\n",
        "tz = 'America/Monterrey'\n",
        "\n",
        "channel = thingspeak.Channel(id=channel_id,api_key=read_key)\n",
        "\n",
        "# Ultimos 2000 lecturas\n",
        "#jj = channel.get_field(field='field2', options = {'results': 2000})\n",
        "\n",
        "## Todas las lecturas en los rangos de fechas especificados\n",
        "#jj = channel.get_field(field='field2', options = {'start':'2019-05-15T00:00:00Z','end':'2019-05-18T00:00:00Z'})\n",
        "\n",
        "### Lecturas de PM2.5, del 8 al 29 de Agosto de 2019\n",
        "jj = channel.get_field(field='field8', options = {'start':'2019-08-25T00:00:00Z',\n",
        "                                                  'end':'2019-08-29T00:00:00Z',\n",
        "                                                  #'average':'daily',\n",
        "                                                  'timezone':tz})\n"
      ],
      "execution_count": 0,
      "outputs": []
    },
    {
      "cell_type": "code",
      "metadata": {
        "scrolled": false,
        "id": "nZun-dGKG-mO",
        "colab_type": "code",
        "colab": {}
      },
      "source": [
        "#jj"
      ],
      "execution_count": 0,
      "outputs": []
    },
    {
      "cell_type": "code",
      "metadata": {
        "id": "qlsDAyLAG-mQ",
        "colab_type": "code",
        "colab": {}
      },
      "source": [
        "json_data = json.loads(jj)\n",
        "#json_data[\"feeds\"]"
      ],
      "execution_count": 0,
      "outputs": []
    },
    {
      "cell_type": "markdown",
      "metadata": {
        "id": "pQ_m4zx7G-mS",
        "colab_type": "text"
      },
      "source": [
        "## Creación de dataframe con Pandas con el campo de JSON\n",
        "\n",
        "- Tomamos el valor del campo created_at como timestamp\n",
        "- Tomamos el valor de la lectura de field8 (PM2.5)\n"
      ]
    },
    {
      "cell_type": "code",
      "metadata": {
        "scrolled": true,
        "id": "KfNGspKdG-mT",
        "colab_type": "code",
        "colab": {}
      },
      "source": [
        "\n",
        "df = pd.DataFrame.from_dict(json_data[\"feeds\"])\n",
        "\n",
        "df[\"datetime\"] = pd.to_datetime(df[\"created_at\"])\n",
        "\n",
        "df.drop([\"created_at\",\"entry_id\"], axis=1,inplace=True)\n",
        "\n",
        "df.rename(columns={\"field8\":\"PM2.5_CF_ATM_ug/m3\"},inplace=True)\n",
        "\n",
        "df.set_index(\"datetime\",inplace=True)\n",
        "\n",
        "#df"
      ],
      "execution_count": 0,
      "outputs": []
    },
    {
      "cell_type": "code",
      "metadata": {
        "id": "ZcFJJHn6G-mV",
        "colab_type": "code",
        "colab": {
          "base_uri": "https://localhost:8080/",
          "height": 235
        },
        "outputId": "0a055f71-ef6e-46af-bc46-db6660e82b2d"
      },
      "source": [
        "df.head()"
      ],
      "execution_count": 13,
      "outputs": [
        {
          "output_type": "execute_result",
          "data": {
            "text/html": [
              "<div>\n",
              "<style scoped>\n",
              "    .dataframe tbody tr th:only-of-type {\n",
              "        vertical-align: middle;\n",
              "    }\n",
              "\n",
              "    .dataframe tbody tr th {\n",
              "        vertical-align: top;\n",
              "    }\n",
              "\n",
              "    .dataframe thead th {\n",
              "        text-align: right;\n",
              "    }\n",
              "</style>\n",
              "<table border=\"1\" class=\"dataframe\">\n",
              "  <thead>\n",
              "    <tr style=\"text-align: right;\">\n",
              "      <th></th>\n",
              "      <th>PM2.5_CF_ATM_ug/m3</th>\n",
              "    </tr>\n",
              "    <tr>\n",
              "      <th>datetime</th>\n",
              "      <th></th>\n",
              "    </tr>\n",
              "  </thead>\n",
              "  <tbody>\n",
              "    <tr>\n",
              "      <th>2019-08-24 19:01:29-05:00</th>\n",
              "      <td>16.26</td>\n",
              "    </tr>\n",
              "    <tr>\n",
              "      <th>2019-08-24 19:03:29-05:00</th>\n",
              "      <td>17.81</td>\n",
              "    </tr>\n",
              "    <tr>\n",
              "      <th>2019-08-24 19:05:29-05:00</th>\n",
              "      <td>18.79</td>\n",
              "    </tr>\n",
              "    <tr>\n",
              "      <th>2019-08-24 19:07:29-05:00</th>\n",
              "      <td>17.01</td>\n",
              "    </tr>\n",
              "    <tr>\n",
              "      <th>2019-08-24 19:09:29-05:00</th>\n",
              "      <td>17.97</td>\n",
              "    </tr>\n",
              "  </tbody>\n",
              "</table>\n",
              "</div>"
            ],
            "text/plain": [
              "                          PM2.5_CF_ATM_ug/m3\n",
              "datetime                                    \n",
              "2019-08-24 19:01:29-05:00              16.26\n",
              "2019-08-24 19:03:29-05:00              17.81\n",
              "2019-08-24 19:05:29-05:00              18.79\n",
              "2019-08-24 19:07:29-05:00              17.01\n",
              "2019-08-24 19:09:29-05:00              17.97"
            ]
          },
          "metadata": {
            "tags": []
          },
          "execution_count": 13
        }
      ]
    },
    {
      "cell_type": "markdown",
      "metadata": {
        "id": "QHWqeEuNG-mX",
        "colab_type": "text"
      },
      "source": [
        "## Opción B: Trabajando con archivos descargados desde /sensorlist\n",
        "\n",
        "Estos archivos pueden obtenerse desde:\n",
        "\n",
        "https://map.purpleair.org/sensorlist\n",
        "\n",
        "**OJO:** Es una página MUY lenta (>5min en desplegar)"
      ]
    },
    {
      "cell_type": "code",
      "metadata": {
        "id": "QMYaZCRvG-mX",
        "colab_type": "code",
        "colab": {}
      },
      "source": [
        "# Descargar desde Github en modo RAW, funciona para archivos menores a 25MB\n",
        "\n",
        "df0 = pd.read_csv(\"https://raw.githubusercontent.com/tozanni/airhacking_ddmty2019/master/LaPastora_Primary_040119_050119.csv\")\n",
        "\n",
        "df1 = pd.read_csv(\"https://raw.githubusercontent.com/tozanni/airhacking_ddmty2019/master/PrivMontana_Primary_040119_050119.csv\")\n"
      ],
      "execution_count": 0,
      "outputs": []
    },
    {
      "cell_type": "code",
      "metadata": {
        "id": "7hjs4gclG-ma",
        "colab_type": "code",
        "colab": {
          "base_uri": "https://localhost:8080/",
          "height": 419
        },
        "outputId": "25c70ce9-a2c8-4e1b-962e-315b4860c6d2"
      },
      "source": [
        "df0"
      ],
      "execution_count": 23,
      "outputs": [
        {
          "output_type": "execute_result",
          "data": {
            "text/html": [
              "<div>\n",
              "<style scoped>\n",
              "    .dataframe tbody tr th:only-of-type {\n",
              "        vertical-align: middle;\n",
              "    }\n",
              "\n",
              "    .dataframe tbody tr th {\n",
              "        vertical-align: top;\n",
              "    }\n",
              "\n",
              "    .dataframe thead th {\n",
              "        text-align: right;\n",
              "    }\n",
              "</style>\n",
              "<table border=\"1\" class=\"dataframe\">\n",
              "  <thead>\n",
              "    <tr style=\"text-align: right;\">\n",
              "      <th></th>\n",
              "      <th>created_at</th>\n",
              "      <th>entry_id</th>\n",
              "      <th>PM1.0_CF_ATM_ug/m3</th>\n",
              "      <th>PM2.5_CF_ATM_ug/m3</th>\n",
              "      <th>PM10.0_CF_ATM_ug/m3</th>\n",
              "      <th>UptimeMinutes</th>\n",
              "      <th>RSSI_dbm</th>\n",
              "      <th>Pressure_hpa</th>\n",
              "      <th>--</th>\n",
              "      <th>PM2.5_CF_1_ug/m3</th>\n",
              "      <th>Unnamed: 10</th>\n",
              "    </tr>\n",
              "  </thead>\n",
              "  <tbody>\n",
              "    <tr>\n",
              "      <th>0</th>\n",
              "      <td>2019-04-01 00:00:35 UTC</td>\n",
              "      <td>15123</td>\n",
              "      <td>16.81</td>\n",
              "      <td>23.32</td>\n",
              "      <td>24.02</td>\n",
              "      <td>840.0</td>\n",
              "      <td>-79.0</td>\n",
              "      <td>68.0</td>\n",
              "      <td>45.0</td>\n",
              "      <td>23.32</td>\n",
              "      <td>NaN</td>\n",
              "    </tr>\n",
              "    <tr>\n",
              "      <th>1</th>\n",
              "      <td>2019-04-01 00:01:54 UTC</td>\n",
              "      <td>15124</td>\n",
              "      <td>16.00</td>\n",
              "      <td>21.68</td>\n",
              "      <td>22.60</td>\n",
              "      <td>841.0</td>\n",
              "      <td>-79.0</td>\n",
              "      <td>68.0</td>\n",
              "      <td>45.0</td>\n",
              "      <td>21.68</td>\n",
              "      <td>NaN</td>\n",
              "    </tr>\n",
              "    <tr>\n",
              "      <th>2</th>\n",
              "      <td>2019-04-01 00:03:14 UTC</td>\n",
              "      <td>15125</td>\n",
              "      <td>15.59</td>\n",
              "      <td>21.77</td>\n",
              "      <td>24.05</td>\n",
              "      <td>843.0</td>\n",
              "      <td>-80.0</td>\n",
              "      <td>68.0</td>\n",
              "      <td>45.0</td>\n",
              "      <td>21.77</td>\n",
              "      <td>NaN</td>\n",
              "    </tr>\n",
              "    <tr>\n",
              "      <th>3</th>\n",
              "      <td>2019-04-01 00:04:34 UTC</td>\n",
              "      <td>15126</td>\n",
              "      <td>15.77</td>\n",
              "      <td>21.07</td>\n",
              "      <td>21.43</td>\n",
              "      <td>844.0</td>\n",
              "      <td>-80.0</td>\n",
              "      <td>68.0</td>\n",
              "      <td>45.0</td>\n",
              "      <td>21.07</td>\n",
              "      <td>NaN</td>\n",
              "    </tr>\n",
              "    <tr>\n",
              "      <th>4</th>\n",
              "      <td>2019-04-01 00:05:54 UTC</td>\n",
              "      <td>15127</td>\n",
              "      <td>15.30</td>\n",
              "      <td>20.78</td>\n",
              "      <td>21.39</td>\n",
              "      <td>845.0</td>\n",
              "      <td>-80.0</td>\n",
              "      <td>68.0</td>\n",
              "      <td>45.0</td>\n",
              "      <td>20.78</td>\n",
              "      <td>NaN</td>\n",
              "    </tr>\n",
              "    <tr>\n",
              "      <th>...</th>\n",
              "      <td>...</td>\n",
              "      <td>...</td>\n",
              "      <td>...</td>\n",
              "      <td>...</td>\n",
              "      <td>...</td>\n",
              "      <td>...</td>\n",
              "      <td>...</td>\n",
              "      <td>...</td>\n",
              "      <td>...</td>\n",
              "      <td>...</td>\n",
              "      <td>...</td>\n",
              "    </tr>\n",
              "    <tr>\n",
              "      <th>31303</th>\n",
              "      <td>2019-04-29 23:53:43 UTC</td>\n",
              "      <td>46426</td>\n",
              "      <td>16.68</td>\n",
              "      <td>22.95</td>\n",
              "      <td>23.93</td>\n",
              "      <td>819.0</td>\n",
              "      <td>-78.0</td>\n",
              "      <td>86.0</td>\n",
              "      <td>41.0</td>\n",
              "      <td>22.95</td>\n",
              "      <td>NaN</td>\n",
              "    </tr>\n",
              "    <tr>\n",
              "      <th>31304</th>\n",
              "      <td>2019-04-29 23:55:03 UTC</td>\n",
              "      <td>46427</td>\n",
              "      <td>15.58</td>\n",
              "      <td>22.73</td>\n",
              "      <td>23.67</td>\n",
              "      <td>820.0</td>\n",
              "      <td>-82.0</td>\n",
              "      <td>86.0</td>\n",
              "      <td>41.0</td>\n",
              "      <td>22.73</td>\n",
              "      <td>NaN</td>\n",
              "    </tr>\n",
              "    <tr>\n",
              "      <th>31305</th>\n",
              "      <td>2019-04-29 23:56:23 UTC</td>\n",
              "      <td>46428</td>\n",
              "      <td>15.26</td>\n",
              "      <td>21.57</td>\n",
              "      <td>22.69</td>\n",
              "      <td>821.0</td>\n",
              "      <td>-82.0</td>\n",
              "      <td>86.0</td>\n",
              "      <td>41.0</td>\n",
              "      <td>21.57</td>\n",
              "      <td>NaN</td>\n",
              "    </tr>\n",
              "    <tr>\n",
              "      <th>31306</th>\n",
              "      <td>2019-04-29 23:57:43 UTC</td>\n",
              "      <td>46429</td>\n",
              "      <td>16.28</td>\n",
              "      <td>22.21</td>\n",
              "      <td>22.60</td>\n",
              "      <td>823.0</td>\n",
              "      <td>-81.0</td>\n",
              "      <td>86.0</td>\n",
              "      <td>41.0</td>\n",
              "      <td>22.21</td>\n",
              "      <td>NaN</td>\n",
              "    </tr>\n",
              "    <tr>\n",
              "      <th>31307</th>\n",
              "      <td>2019-04-29 23:59:03 UTC</td>\n",
              "      <td>46430</td>\n",
              "      <td>17.43</td>\n",
              "      <td>23.95</td>\n",
              "      <td>25.86</td>\n",
              "      <td>824.0</td>\n",
              "      <td>-78.0</td>\n",
              "      <td>86.0</td>\n",
              "      <td>42.0</td>\n",
              "      <td>23.95</td>\n",
              "      <td>NaN</td>\n",
              "    </tr>\n",
              "  </tbody>\n",
              "</table>\n",
              "<p>31308 rows × 11 columns</p>\n",
              "</div>"
            ],
            "text/plain": [
              "                    created_at  entry_id  ...  PM2.5_CF_1_ug/m3  Unnamed: 10\n",
              "0      2019-04-01 00:00:35 UTC     15123  ...             23.32          NaN\n",
              "1      2019-04-01 00:01:54 UTC     15124  ...             21.68          NaN\n",
              "2      2019-04-01 00:03:14 UTC     15125  ...             21.77          NaN\n",
              "3      2019-04-01 00:04:34 UTC     15126  ...             21.07          NaN\n",
              "4      2019-04-01 00:05:54 UTC     15127  ...             20.78          NaN\n",
              "...                        ...       ...  ...               ...          ...\n",
              "31303  2019-04-29 23:53:43 UTC     46426  ...             22.95          NaN\n",
              "31304  2019-04-29 23:55:03 UTC     46427  ...             22.73          NaN\n",
              "31305  2019-04-29 23:56:23 UTC     46428  ...             21.57          NaN\n",
              "31306  2019-04-29 23:57:43 UTC     46429  ...             22.21          NaN\n",
              "31307  2019-04-29 23:59:03 UTC     46430  ...             23.95          NaN\n",
              "\n",
              "[31308 rows x 11 columns]"
            ]
          },
          "metadata": {
            "tags": []
          },
          "execution_count": 23
        }
      ]
    },
    {
      "cell_type": "code",
      "metadata": {
        "id": "6EaVh8ucG-mf",
        "colab_type": "code",
        "colab": {}
      },
      "source": [
        "def prepare(df):\n",
        "    \n",
        "    #Eliminar columnas innecesarias\n",
        "    df.drop(\"Unnamed: 10\", axis=1, inplace=True)\n",
        "    \n",
        "    #Conversion de tipo de datos, de momento ignorar el Timezone\n",
        "    df[\"datetime\"] = pd.to_datetime(df.created_at,  utc=None)\n",
        "    \n",
        "    #Eliminar columnas innecesarias\n",
        "    df.drop([\"created_at\",\"entry_id\"],axis=1,inplace=True)\n",
        "    \n",
        "    #Crear indice en la columna datetime\n",
        "    df.set_index(\"datetime\",inplace=True)\n",
        "    \n",
        "    # Crear una columna por dia (esto no es necesario, lo hacemos a modo de ejemplo)\n",
        "    df['date'] = df.index.date\n",
        "    return df\n",
        "\n",
        "df = prepare(df0)"
      ],
      "execution_count": 0,
      "outputs": []
    },
    {
      "cell_type": "code",
      "metadata": {
        "id": "JD9q-NeWG-mh",
        "colab_type": "code",
        "colab": {
          "base_uri": "https://localhost:8080/",
          "height": 235
        },
        "outputId": "009c80c6-4e32-4261-9d2e-b9c023876fbf"
      },
      "source": [
        "df[[\"PM2.5_CF_ATM_ug/m3\"]].head()"
      ],
      "execution_count": 25,
      "outputs": [
        {
          "output_type": "execute_result",
          "data": {
            "text/html": [
              "<div>\n",
              "<style scoped>\n",
              "    .dataframe tbody tr th:only-of-type {\n",
              "        vertical-align: middle;\n",
              "    }\n",
              "\n",
              "    .dataframe tbody tr th {\n",
              "        vertical-align: top;\n",
              "    }\n",
              "\n",
              "    .dataframe thead th {\n",
              "        text-align: right;\n",
              "    }\n",
              "</style>\n",
              "<table border=\"1\" class=\"dataframe\">\n",
              "  <thead>\n",
              "    <tr style=\"text-align: right;\">\n",
              "      <th></th>\n",
              "      <th>PM2.5_CF_ATM_ug/m3</th>\n",
              "    </tr>\n",
              "    <tr>\n",
              "      <th>datetime</th>\n",
              "      <th></th>\n",
              "    </tr>\n",
              "  </thead>\n",
              "  <tbody>\n",
              "    <tr>\n",
              "      <th>2019-04-01 00:00:35+00:00</th>\n",
              "      <td>23.32</td>\n",
              "    </tr>\n",
              "    <tr>\n",
              "      <th>2019-04-01 00:01:54+00:00</th>\n",
              "      <td>21.68</td>\n",
              "    </tr>\n",
              "    <tr>\n",
              "      <th>2019-04-01 00:03:14+00:00</th>\n",
              "      <td>21.77</td>\n",
              "    </tr>\n",
              "    <tr>\n",
              "      <th>2019-04-01 00:04:34+00:00</th>\n",
              "      <td>21.07</td>\n",
              "    </tr>\n",
              "    <tr>\n",
              "      <th>2019-04-01 00:05:54+00:00</th>\n",
              "      <td>20.78</td>\n",
              "    </tr>\n",
              "  </tbody>\n",
              "</table>\n",
              "</div>"
            ],
            "text/plain": [
              "                           PM2.5_CF_ATM_ug/m3\n",
              "datetime                                     \n",
              "2019-04-01 00:00:35+00:00               23.32\n",
              "2019-04-01 00:01:54+00:00               21.68\n",
              "2019-04-01 00:03:14+00:00               21.77\n",
              "2019-04-01 00:04:34+00:00               21.07\n",
              "2019-04-01 00:05:54+00:00               20.78"
            ]
          },
          "metadata": {
            "tags": []
          },
          "execution_count": 25
        }
      ]
    },
    {
      "cell_type": "code",
      "metadata": {
        "id": "nqQmSvWeM7Sm",
        "colab_type": "code",
        "colab": {
          "base_uri": "https://localhost:8080/",
          "height": 235
        },
        "outputId": "75e3a8fa-11b5-4775-f918-e2e1cafdab9d"
      },
      "source": [
        "df.head()"
      ],
      "execution_count": 27,
      "outputs": [
        {
          "output_type": "execute_result",
          "data": {
            "text/html": [
              "<div>\n",
              "<style scoped>\n",
              "    .dataframe tbody tr th:only-of-type {\n",
              "        vertical-align: middle;\n",
              "    }\n",
              "\n",
              "    .dataframe tbody tr th {\n",
              "        vertical-align: top;\n",
              "    }\n",
              "\n",
              "    .dataframe thead th {\n",
              "        text-align: right;\n",
              "    }\n",
              "</style>\n",
              "<table border=\"1\" class=\"dataframe\">\n",
              "  <thead>\n",
              "    <tr style=\"text-align: right;\">\n",
              "      <th></th>\n",
              "      <th>PM1.0_CF_ATM_ug/m3</th>\n",
              "      <th>PM2.5_CF_ATM_ug/m3</th>\n",
              "      <th>PM10.0_CF_ATM_ug/m3</th>\n",
              "      <th>UptimeMinutes</th>\n",
              "      <th>RSSI_dbm</th>\n",
              "      <th>Pressure_hpa</th>\n",
              "      <th>--</th>\n",
              "      <th>PM2.5_CF_1_ug/m3</th>\n",
              "      <th>date</th>\n",
              "    </tr>\n",
              "    <tr>\n",
              "      <th>datetime</th>\n",
              "      <th></th>\n",
              "      <th></th>\n",
              "      <th></th>\n",
              "      <th></th>\n",
              "      <th></th>\n",
              "      <th></th>\n",
              "      <th></th>\n",
              "      <th></th>\n",
              "      <th></th>\n",
              "    </tr>\n",
              "  </thead>\n",
              "  <tbody>\n",
              "    <tr>\n",
              "      <th>2019-04-01 00:00:35+00:00</th>\n",
              "      <td>16.81</td>\n",
              "      <td>23.32</td>\n",
              "      <td>24.02</td>\n",
              "      <td>840.0</td>\n",
              "      <td>-79.0</td>\n",
              "      <td>68.0</td>\n",
              "      <td>45.0</td>\n",
              "      <td>23.32</td>\n",
              "      <td>2019-04-01</td>\n",
              "    </tr>\n",
              "    <tr>\n",
              "      <th>2019-04-01 00:01:54+00:00</th>\n",
              "      <td>16.00</td>\n",
              "      <td>21.68</td>\n",
              "      <td>22.60</td>\n",
              "      <td>841.0</td>\n",
              "      <td>-79.0</td>\n",
              "      <td>68.0</td>\n",
              "      <td>45.0</td>\n",
              "      <td>21.68</td>\n",
              "      <td>2019-04-01</td>\n",
              "    </tr>\n",
              "    <tr>\n",
              "      <th>2019-04-01 00:03:14+00:00</th>\n",
              "      <td>15.59</td>\n",
              "      <td>21.77</td>\n",
              "      <td>24.05</td>\n",
              "      <td>843.0</td>\n",
              "      <td>-80.0</td>\n",
              "      <td>68.0</td>\n",
              "      <td>45.0</td>\n",
              "      <td>21.77</td>\n",
              "      <td>2019-04-01</td>\n",
              "    </tr>\n",
              "    <tr>\n",
              "      <th>2019-04-01 00:04:34+00:00</th>\n",
              "      <td>15.77</td>\n",
              "      <td>21.07</td>\n",
              "      <td>21.43</td>\n",
              "      <td>844.0</td>\n",
              "      <td>-80.0</td>\n",
              "      <td>68.0</td>\n",
              "      <td>45.0</td>\n",
              "      <td>21.07</td>\n",
              "      <td>2019-04-01</td>\n",
              "    </tr>\n",
              "    <tr>\n",
              "      <th>2019-04-01 00:05:54+00:00</th>\n",
              "      <td>15.30</td>\n",
              "      <td>20.78</td>\n",
              "      <td>21.39</td>\n",
              "      <td>845.0</td>\n",
              "      <td>-80.0</td>\n",
              "      <td>68.0</td>\n",
              "      <td>45.0</td>\n",
              "      <td>20.78</td>\n",
              "      <td>2019-04-01</td>\n",
              "    </tr>\n",
              "  </tbody>\n",
              "</table>\n",
              "</div>"
            ],
            "text/plain": [
              "                           PM1.0_CF_ATM_ug/m3  ...        date\n",
              "datetime                                       ...            \n",
              "2019-04-01 00:00:35+00:00               16.81  ...  2019-04-01\n",
              "2019-04-01 00:01:54+00:00               16.00  ...  2019-04-01\n",
              "2019-04-01 00:03:14+00:00               15.59  ...  2019-04-01\n",
              "2019-04-01 00:04:34+00:00               15.77  ...  2019-04-01\n",
              "2019-04-01 00:05:54+00:00               15.30  ...  2019-04-01\n",
              "\n",
              "[5 rows x 9 columns]"
            ]
          },
          "metadata": {
            "tags": []
          },
          "execution_count": 27
        }
      ]
    },
    {
      "cell_type": "markdown",
      "metadata": {
        "id": "jclirajOG-mi",
        "colab_type": "text"
      },
      "source": [
        "### Cálculo de índices (PM2.5 AQI)\n",
        "\n",
        "\n",
        "#### 1. Obtener concentraciones promedio diarias (dos métodos)\n",
        "\n",
        "**Método A. Group-by**\n",
        "\n",
        "Requiere la creación de una columna auxiliar"
      ]
    },
    {
      "cell_type": "code",
      "metadata": {
        "id": "aiH1whV3NVu_",
        "colab_type": "code",
        "colab": {
          "base_uri": "https://localhost:8080/",
          "height": 235
        },
        "outputId": "6ddf56af-6616-4563-da05-3f21b57726b8"
      },
      "source": [
        "# Concentracion promedio diaria (a partir de la serie de minutos)\n",
        "df[['date','PM2.5_CF_ATM_ug/m3','PM1.0_CF_ATM_ug/m3']].groupby(['date']).mean().head()"
      ],
      "execution_count": 32,
      "outputs": [
        {
          "output_type": "execute_result",
          "data": {
            "text/html": [
              "<div>\n",
              "<style scoped>\n",
              "    .dataframe tbody tr th:only-of-type {\n",
              "        vertical-align: middle;\n",
              "    }\n",
              "\n",
              "    .dataframe tbody tr th {\n",
              "        vertical-align: top;\n",
              "    }\n",
              "\n",
              "    .dataframe thead th {\n",
              "        text-align: right;\n",
              "    }\n",
              "</style>\n",
              "<table border=\"1\" class=\"dataframe\">\n",
              "  <thead>\n",
              "    <tr style=\"text-align: right;\">\n",
              "      <th></th>\n",
              "      <th>PM2.5_CF_ATM_ug/m3</th>\n",
              "      <th>PM1.0_CF_ATM_ug/m3</th>\n",
              "    </tr>\n",
              "    <tr>\n",
              "      <th>date</th>\n",
              "      <th></th>\n",
              "      <th></th>\n",
              "    </tr>\n",
              "  </thead>\n",
              "  <tbody>\n",
              "    <tr>\n",
              "      <th>2019-04-01</th>\n",
              "      <td>19.568454</td>\n",
              "      <td>13.328824</td>\n",
              "    </tr>\n",
              "    <tr>\n",
              "      <th>2019-04-02</th>\n",
              "      <td>26.977268</td>\n",
              "      <td>18.626608</td>\n",
              "    </tr>\n",
              "    <tr>\n",
              "      <th>2019-04-03</th>\n",
              "      <td>54.914115</td>\n",
              "      <td>31.726497</td>\n",
              "    </tr>\n",
              "    <tr>\n",
              "      <th>2019-04-04</th>\n",
              "      <td>24.352572</td>\n",
              "      <td>16.150130</td>\n",
              "    </tr>\n",
              "    <tr>\n",
              "      <th>2019-04-05</th>\n",
              "      <td>20.767454</td>\n",
              "      <td>14.513759</td>\n",
              "    </tr>\n",
              "  </tbody>\n",
              "</table>\n",
              "</div>"
            ],
            "text/plain": [
              "            PM2.5_CF_ATM_ug/m3  PM1.0_CF_ATM_ug/m3\n",
              "date                                              \n",
              "2019-04-01           19.568454           13.328824\n",
              "2019-04-02           26.977268           18.626608\n",
              "2019-04-03           54.914115           31.726497\n",
              "2019-04-04           24.352572           16.150130\n",
              "2019-04-05           20.767454           14.513759"
            ]
          },
          "metadata": {
            "tags": []
          },
          "execution_count": 32
        }
      ]
    },
    {
      "cell_type": "markdown",
      "metadata": {
        "id": "bAIu5I1ZOYU-",
        "colab_type": "text"
      },
      "source": [
        "**Método B. Resample**\n",
        "\n",
        "La forma más poderosa es usar DataFrame.resample\n",
        "\n",
        "https://pandas.pydata.org/pandas-docs/stable/reference/api/pandas.DataFrame.resample.html\n"
      ]
    },
    {
      "cell_type": "code",
      "metadata": {
        "id": "KrLfR3AuNx4V",
        "colab_type": "code",
        "colab": {
          "base_uri": "https://localhost:8080/",
          "height": 235
        },
        "outputId": "4c52d437-165c-4224-eaa7-7ee9522ef8fe"
      },
      "source": [
        "pm25_daily_avg = df[['date','PM2.5_CF_ATM_ug/m3','PM1.0_CF_ATM_ug/m3']].resample('D').mean()\n",
        "pm25_daily_avg.head()"
      ],
      "execution_count": 31,
      "outputs": [
        {
          "output_type": "execute_result",
          "data": {
            "text/html": [
              "<div>\n",
              "<style scoped>\n",
              "    .dataframe tbody tr th:only-of-type {\n",
              "        vertical-align: middle;\n",
              "    }\n",
              "\n",
              "    .dataframe tbody tr th {\n",
              "        vertical-align: top;\n",
              "    }\n",
              "\n",
              "    .dataframe thead th {\n",
              "        text-align: right;\n",
              "    }\n",
              "</style>\n",
              "<table border=\"1\" class=\"dataframe\">\n",
              "  <thead>\n",
              "    <tr style=\"text-align: right;\">\n",
              "      <th></th>\n",
              "      <th>PM2.5_CF_ATM_ug/m3</th>\n",
              "      <th>PM1.0_CF_ATM_ug/m3</th>\n",
              "    </tr>\n",
              "    <tr>\n",
              "      <th>datetime</th>\n",
              "      <th></th>\n",
              "      <th></th>\n",
              "    </tr>\n",
              "  </thead>\n",
              "  <tbody>\n",
              "    <tr>\n",
              "      <th>2019-04-01 00:00:00+00:00</th>\n",
              "      <td>19.568454</td>\n",
              "      <td>13.328824</td>\n",
              "    </tr>\n",
              "    <tr>\n",
              "      <th>2019-04-02 00:00:00+00:00</th>\n",
              "      <td>26.977268</td>\n",
              "      <td>18.626608</td>\n",
              "    </tr>\n",
              "    <tr>\n",
              "      <th>2019-04-03 00:00:00+00:00</th>\n",
              "      <td>54.914115</td>\n",
              "      <td>31.726497</td>\n",
              "    </tr>\n",
              "    <tr>\n",
              "      <th>2019-04-04 00:00:00+00:00</th>\n",
              "      <td>24.352572</td>\n",
              "      <td>16.150130</td>\n",
              "    </tr>\n",
              "    <tr>\n",
              "      <th>2019-04-05 00:00:00+00:00</th>\n",
              "      <td>20.767454</td>\n",
              "      <td>14.513759</td>\n",
              "    </tr>\n",
              "  </tbody>\n",
              "</table>\n",
              "</div>"
            ],
            "text/plain": [
              "                           PM2.5_CF_ATM_ug/m3  PM1.0_CF_ATM_ug/m3\n",
              "datetime                                                         \n",
              "2019-04-01 00:00:00+00:00           19.568454           13.328824\n",
              "2019-04-02 00:00:00+00:00           26.977268           18.626608\n",
              "2019-04-03 00:00:00+00:00           54.914115           31.726497\n",
              "2019-04-04 00:00:00+00:00           24.352572           16.150130\n",
              "2019-04-05 00:00:00+00:00           20.767454           14.513759"
            ]
          },
          "metadata": {
            "tags": []
          },
          "execution_count": 31
        }
      ]
    },
    {
      "cell_type": "code",
      "metadata": {
        "id": "z20cuEGiG-mj",
        "colab_type": "code",
        "colab": {
          "base_uri": "https://localhost:8080/",
          "height": 365
        },
        "outputId": "fe0d950b-4970-4912-ea9d-cdad5ecf7b92"
      },
      "source": [
        "import matplotlib as plt\n",
        "\n",
        "#pm25_daily_avg\n",
        "pm25_daily_avg.plot()"
      ],
      "execution_count": 34,
      "outputs": [
        {
          "output_type": "stream",
          "text": [
            "/usr/local/lib/python3.6/dist-packages/pandas/core/arrays/datetimes.py:1269: UserWarning: Converting to PeriodArray/Index representation will drop timezone information.\n",
            "  UserWarning,\n"
          ],
          "name": "stderr"
        },
        {
          "output_type": "execute_result",
          "data": {
            "text/plain": [
              "<matplotlib.axes._subplots.AxesSubplot at 0x7efe002105c0>"
            ]
          },
          "metadata": {
            "tags": []
          },
          "execution_count": 34
        },
        {
          "output_type": "display_data",
          "data": {
            "image/png": "[encoded data removed]",
            "text/plain": [
              "<Figure size 432x288 with 1 Axes>"
            ]
          },
          "metadata": {
            "tags": []
          }
        }
      ]
    },
    {
      "cell_type": "code",
      "metadata": {
        "id": "ApolA_DOPTZ6",
        "colab_type": "code",
        "colab": {}
      },
      "source": [
        "# Basadas en el calculo de\n",
        "# https://airnow.gov/index.cfm?action=airnow.calculator\n",
        "# PM2.5 es la recomendacion de la OMS\n",
        "\n",
        "def Linear(AQIhigh, AQIlow, Conchigh, Conclow, Conc):\n",
        "    a=((Conc-Conclow)/(Conchigh-Conclow))*(AQIhigh-AQIlow)+AQIlow;\n",
        "    return round(a)\n",
        "\n",
        "def AQIPM25(Conc):\n",
        "    import math\n",
        "    c=(math.floor(10*Conc))/10\n",
        "    AQI = 0\n",
        "    \n",
        "    if (c>=0 and c<12.1):\n",
        "        AQI=Linear(50,0,12,0,c)\n",
        "    elif (c>=12.1 and c<35.5):\n",
        "        AQI=Linear(100,51,35.4,12.1,c)\n",
        "    elif (c>=35.5 and c<55.5):\n",
        "        AQI=Linear(150,101,55.4,35.5,c)\n",
        "    elif (c>=55.5 and c<150.5):\n",
        "        AQI=Linear(200,151,150.4,55.5,c)\n",
        "    elif (c>=150.5 and c<250.5):\n",
        "        AQI=Linear(300,201,250.4,150.5,c)\n",
        "    elif (c>=250.5 and c<350.5):\n",
        "        AQI=Linear(400,301,350.4,250.5,c)\n",
        "    elif (c>=350.5 and c<500.5):\n",
        "        AQI=Linear(500,401,500.4,350.5,c)\n",
        "    return AQI\n",
        "\n",
        "def AQICategory(AQI):\n",
        "    if (AQI<=50):\n",
        "        AQICategory=\"1. Good\"\n",
        "    elif (AQI>50 and AQI<=100):\n",
        "        AQICategory=\"2. Moderate\"\n",
        "    elif(AQI>100 and AQI<=150):\n",
        "        AQICategory=\"3. Unhealthy for Sensitive Groups\"\n",
        "    elif (AQI>150 and AQI<=200):\n",
        "        AQICategory=\"4. Unhealthy\"\n",
        "    elif (AQI>200 and AQI<=300):\n",
        "        AQICategory=\"5. Very Unhealthy\"\n",
        "    elif (AQI>300 and AQI<=400):\n",
        "        AQICategory=\"6. Hazardous\"\n",
        "    elif (AQI>400 and AQI<=500):\n",
        "        AQICategory=\"7. Hazardous\"\n",
        "    else:\n",
        "        AQICategory=\"Out of Range\"\n",
        "    \n",
        "    return AQICategory\n",
        "\n",
        "\n",
        "def IMECA25(Conc):\n",
        "    imeca = 0\n",
        "    \n",
        "    if (Conc >= 0 and Conc <= 15.4):\n",
        "        imeca = Conc*50 / 15.4\n",
        "    elif (Conc >= 15.5 and Conc <= 40.4):\n",
        "        imeca =  20.50 + Conc*49/24.9\n",
        "    elif (Conc >= 40.5 and Conc <= 65.4 ):\n",
        "        imeca =  21.30 + Conc*49/24.9\n",
        "    elif (Conc >= 65.5 and Conc <= 150.4):\n",
        "        imeca =  113.20 + Conc*49/84.9\n",
        "    elif (Conc > 150.4):\n",
        "        imeca = Conc*201/150.5\n",
        "    \n",
        "    return round(imeca)\n"
      ],
      "execution_count": 0,
      "outputs": []
    },
    {
      "cell_type": "code",
      "metadata": {
        "id": "n2tHClcLPxWr",
        "colab_type": "code",
        "colab": {
          "base_uri": "https://localhost:8080/",
          "height": 235
        },
        "outputId": "a781e415-84ea-4eff-c7fe-549e1aca993a"
      },
      "source": [
        "pm25_daily_avg[\"AQI2.5\"] = pm25_daily_avg[\"PM2.5_CF_ATM_ug/m3\"].apply(AQIPM25)\n",
        "\n",
        "pm25_daily_avg[\"IMECA2.5\"] = pm25_daily_avg[\"PM2.5_CF_ATM_ug/m3\"].apply(IMECA25)\n",
        "\n",
        "pm25_daily_avg.head()"
      ],
      "execution_count": 69,
      "outputs": [
        {
          "output_type": "execute_result",
          "data": {
            "text/html": [
              "<div>\n",
              "<style scoped>\n",
              "    .dataframe tbody tr th:only-of-type {\n",
              "        vertical-align: middle;\n",
              "    }\n",
              "\n",
              "    .dataframe tbody tr th {\n",
              "        vertical-align: top;\n",
              "    }\n",
              "\n",
              "    .dataframe thead th {\n",
              "        text-align: right;\n",
              "    }\n",
              "</style>\n",
              "<table border=\"1\" class=\"dataframe\">\n",
              "  <thead>\n",
              "    <tr style=\"text-align: right;\">\n",
              "      <th></th>\n",
              "      <th>PM2.5_CF_ATM_ug/m3</th>\n",
              "      <th>PM1.0_CF_ATM_ug/m3</th>\n",
              "      <th>AQI2.5</th>\n",
              "      <th>IMECA2.5</th>\n",
              "      <th>AQI_PM2.5_Cat</th>\n",
              "    </tr>\n",
              "    <tr>\n",
              "      <th>datetime</th>\n",
              "      <th></th>\n",
              "      <th></th>\n",
              "      <th></th>\n",
              "      <th></th>\n",
              "      <th></th>\n",
              "    </tr>\n",
              "  </thead>\n",
              "  <tbody>\n",
              "    <tr>\n",
              "      <th>2019-04-01 00:00:00+00:00</th>\n",
              "      <td>19.568454</td>\n",
              "      <td>13.328824</td>\n",
              "      <td>67</td>\n",
              "      <td>59</td>\n",
              "      <td>Moderate</td>\n",
              "    </tr>\n",
              "    <tr>\n",
              "      <th>2019-04-02 00:00:00+00:00</th>\n",
              "      <td>26.977268</td>\n",
              "      <td>18.626608</td>\n",
              "      <td>82</td>\n",
              "      <td>74</td>\n",
              "      <td>Moderate</td>\n",
              "    </tr>\n",
              "    <tr>\n",
              "      <th>2019-04-03 00:00:00+00:00</th>\n",
              "      <td>54.914115</td>\n",
              "      <td>31.726497</td>\n",
              "      <td>149</td>\n",
              "      <td>129</td>\n",
              "      <td>Unhealthy for Sensitive Groups</td>\n",
              "    </tr>\n",
              "    <tr>\n",
              "      <th>2019-04-04 00:00:00+00:00</th>\n",
              "      <td>24.352572</td>\n",
              "      <td>16.150130</td>\n",
              "      <td>77</td>\n",
              "      <td>68</td>\n",
              "      <td>Moderate</td>\n",
              "    </tr>\n",
              "    <tr>\n",
              "      <th>2019-04-05 00:00:00+00:00</th>\n",
              "      <td>20.767454</td>\n",
              "      <td>14.513759</td>\n",
              "      <td>69</td>\n",
              "      <td>61</td>\n",
              "      <td>Moderate</td>\n",
              "    </tr>\n",
              "  </tbody>\n",
              "</table>\n",
              "</div>"
            ],
            "text/plain": [
              "                           PM2.5_CF_ATM_ug/m3  ...                   AQI_PM2.5_Cat\n",
              "datetime                                       ...                                \n",
              "2019-04-01 00:00:00+00:00           19.568454  ...                        Moderate\n",
              "2019-04-02 00:00:00+00:00           26.977268  ...                        Moderate\n",
              "2019-04-03 00:00:00+00:00           54.914115  ...  Unhealthy for Sensitive Groups\n",
              "2019-04-04 00:00:00+00:00           24.352572  ...                        Moderate\n",
              "2019-04-05 00:00:00+00:00           20.767454  ...                        Moderate\n",
              "\n",
              "[5 rows x 5 columns]"
            ]
          },
          "metadata": {
            "tags": []
          },
          "execution_count": 69
        }
      ]
    },
    {
      "cell_type": "markdown",
      "metadata": {
        "id": "EnaudKhnG-mo",
        "colab_type": "text"
      },
      "source": [
        "### ¿Cuántos días hay por cada categoría de AQI / IMECA?"
      ]
    },
    {
      "cell_type": "code",
      "metadata": {
        "id": "KthtnhtKP6ff",
        "colab_type": "code",
        "colab": {
          "base_uri": "https://localhost:8080/",
          "height": 204
        },
        "outputId": "804681c5-36d3-4a33-e10c-41c767d8d9e3"
      },
      "source": [
        "pm25_daily_avg[\"AQI_PM2.5_Cat\"]  = pm25_daily_avg[\"AQI2.5\"].apply(AQICategory)\n",
        "\n",
        "pm25_daily_avg.groupby(\"AQI_PM2.5_Cat\").count()"
      ],
      "execution_count": 70,
      "outputs": [
        {
          "output_type": "execute_result",
          "data": {
            "text/html": [
              "<div>\n",
              "<style scoped>\n",
              "    .dataframe tbody tr th:only-of-type {\n",
              "        vertical-align: middle;\n",
              "    }\n",
              "\n",
              "    .dataframe tbody tr th {\n",
              "        vertical-align: top;\n",
              "    }\n",
              "\n",
              "    .dataframe thead th {\n",
              "        text-align: right;\n",
              "    }\n",
              "</style>\n",
              "<table border=\"1\" class=\"dataframe\">\n",
              "  <thead>\n",
              "    <tr style=\"text-align: right;\">\n",
              "      <th></th>\n",
              "      <th>PM2.5_CF_ATM_ug/m3</th>\n",
              "      <th>PM1.0_CF_ATM_ug/m3</th>\n",
              "      <th>AQI2.5</th>\n",
              "      <th>IMECA2.5</th>\n",
              "    </tr>\n",
              "    <tr>\n",
              "      <th>AQI_PM2.5_Cat</th>\n",
              "      <th></th>\n",
              "      <th></th>\n",
              "      <th></th>\n",
              "      <th></th>\n",
              "    </tr>\n",
              "  </thead>\n",
              "  <tbody>\n",
              "    <tr>\n",
              "      <th>1. Good</th>\n",
              "      <td>11</td>\n",
              "      <td>11</td>\n",
              "      <td>11</td>\n",
              "      <td>11</td>\n",
              "    </tr>\n",
              "    <tr>\n",
              "      <th>2. Moderate</th>\n",
              "      <td>13</td>\n",
              "      <td>13</td>\n",
              "      <td>13</td>\n",
              "      <td>13</td>\n",
              "    </tr>\n",
              "    <tr>\n",
              "      <th>3. Unhealthy for Sensitive Groups</th>\n",
              "      <td>4</td>\n",
              "      <td>4</td>\n",
              "      <td>4</td>\n",
              "      <td>4</td>\n",
              "    </tr>\n",
              "    <tr>\n",
              "      <th>4. Unhealthy</th>\n",
              "      <td>1</td>\n",
              "      <td>1</td>\n",
              "      <td>1</td>\n",
              "      <td>1</td>\n",
              "    </tr>\n",
              "  </tbody>\n",
              "</table>\n",
              "</div>"
            ],
            "text/plain": [
              "                                   PM2.5_CF_ATM_ug/m3  ...  IMECA2.5\n",
              "AQI_PM2.5_Cat                                          ...          \n",
              "1. Good                                            11  ...        11\n",
              "2. Moderate                                        13  ...        13\n",
              "3. Unhealthy for Sensitive Groups                   4  ...         4\n",
              "4. Unhealthy                                        1  ...         1\n",
              "\n",
              "[4 rows x 4 columns]"
            ]
          },
          "metadata": {
            "tags": []
          },
          "execution_count": 70
        }
      ]
    },
    {
      "cell_type": "markdown",
      "metadata": {
        "id": "FUET59FXO_S0",
        "colab_type": "text"
      },
      "source": [
        "#### Calcular la concentración promedio por hora del dia\n",
        "\n",
        "Deseamos saber a qué hora del día hubo menor calidad del aire. Aquí combinamos el uso de resample y group."
      ]
    },
    {
      "cell_type": "code",
      "metadata": {
        "id": "ky1x2wu1G-ml",
        "colab_type": "code",
        "colab": {
          "base_uri": "https://localhost:8080/",
          "height": 450
        },
        "outputId": "9c9bc608-06f9-4b7e-e33d-0007ce6e9b26"
      },
      "source": [
        "pm25_hr_avg = df[['date','PM2.5_CF_ATM_ug/m3','PM1.0_CF_ATM_ug/m3']].resample('h').mean()\n",
        "\n",
        "pm25_hr_avg"
      ],
      "execution_count": 104,
      "outputs": [
        {
          "output_type": "execute_result",
          "data": {
            "text/html": [
              "<div>\n",
              "<style scoped>\n",
              "    .dataframe tbody tr th:only-of-type {\n",
              "        vertical-align: middle;\n",
              "    }\n",
              "\n",
              "    .dataframe tbody tr th {\n",
              "        vertical-align: top;\n",
              "    }\n",
              "\n",
              "    .dataframe thead th {\n",
              "        text-align: right;\n",
              "    }\n",
              "</style>\n",
              "<table border=\"1\" class=\"dataframe\">\n",
              "  <thead>\n",
              "    <tr style=\"text-align: right;\">\n",
              "      <th></th>\n",
              "      <th>PM2.5_CF_ATM_ug/m3</th>\n",
              "      <th>PM1.0_CF_ATM_ug/m3</th>\n",
              "    </tr>\n",
              "    <tr>\n",
              "      <th>datetime</th>\n",
              "      <th></th>\n",
              "      <th></th>\n",
              "    </tr>\n",
              "  </thead>\n",
              "  <tbody>\n",
              "    <tr>\n",
              "      <th>2019-04-01 00:00:00+00:00</th>\n",
              "      <td>21.677556</td>\n",
              "      <td>15.734000</td>\n",
              "    </tr>\n",
              "    <tr>\n",
              "      <th>2019-04-01 01:00:00+00:00</th>\n",
              "      <td>22.856222</td>\n",
              "      <td>16.546889</td>\n",
              "    </tr>\n",
              "    <tr>\n",
              "      <th>2019-04-01 02:00:00+00:00</th>\n",
              "      <td>17.768889</td>\n",
              "      <td>13.264222</td>\n",
              "    </tr>\n",
              "    <tr>\n",
              "      <th>2019-04-01 03:00:00+00:00</th>\n",
              "      <td>12.354889</td>\n",
              "      <td>9.377556</td>\n",
              "    </tr>\n",
              "    <tr>\n",
              "      <th>2019-04-01 04:00:00+00:00</th>\n",
              "      <td>8.559778</td>\n",
              "      <td>6.564667</td>\n",
              "    </tr>\n",
              "    <tr>\n",
              "      <th>...</th>\n",
              "      <td>...</td>\n",
              "      <td>...</td>\n",
              "    </tr>\n",
              "    <tr>\n",
              "      <th>2019-04-29 19:00:00+00:00</th>\n",
              "      <td>30.542000</td>\n",
              "      <td>20.627111</td>\n",
              "    </tr>\n",
              "    <tr>\n",
              "      <th>2019-04-29 20:00:00+00:00</th>\n",
              "      <td>26.909778</td>\n",
              "      <td>18.253333</td>\n",
              "    </tr>\n",
              "    <tr>\n",
              "      <th>2019-04-29 21:00:00+00:00</th>\n",
              "      <td>25.723556</td>\n",
              "      <td>17.678222</td>\n",
              "    </tr>\n",
              "    <tr>\n",
              "      <th>2019-04-29 22:00:00+00:00</th>\n",
              "      <td>23.751111</td>\n",
              "      <td>16.615333</td>\n",
              "    </tr>\n",
              "    <tr>\n",
              "      <th>2019-04-29 23:00:00+00:00</th>\n",
              "      <td>22.382889</td>\n",
              "      <td>15.819111</td>\n",
              "    </tr>\n",
              "  </tbody>\n",
              "</table>\n",
              "<p>696 rows × 2 columns</p>\n",
              "</div>"
            ],
            "text/plain": [
              "                           PM2.5_CF_ATM_ug/m3  PM1.0_CF_ATM_ug/m3\n",
              "datetime                                                         \n",
              "2019-04-01 00:00:00+00:00           21.677556           15.734000\n",
              "2019-04-01 01:00:00+00:00           22.856222           16.546889\n",
              "2019-04-01 02:00:00+00:00           17.768889           13.264222\n",
              "2019-04-01 03:00:00+00:00           12.354889            9.377556\n",
              "2019-04-01 04:00:00+00:00            8.559778            6.564667\n",
              "...                                       ...                 ...\n",
              "2019-04-29 19:00:00+00:00           30.542000           20.627111\n",
              "2019-04-29 20:00:00+00:00           26.909778           18.253333\n",
              "2019-04-29 21:00:00+00:00           25.723556           17.678222\n",
              "2019-04-29 22:00:00+00:00           23.751111           16.615333\n",
              "2019-04-29 23:00:00+00:00           22.382889           15.819111\n",
              "\n",
              "[696 rows x 2 columns]"
            ]
          },
          "metadata": {
            "tags": []
          },
          "execution_count": 104
        }
      ]
    },
    {
      "cell_type": "code",
      "metadata": {
        "id": "qBr9On6DXB4r",
        "colab_type": "code",
        "colab": {}
      },
      "source": [
        "pm25_hr_avg[\"hora_local\"] = pm25_hr_avg.index.tz_convert('America/Monterrey')\n"
      ],
      "execution_count": 0,
      "outputs": []
    },
    {
      "cell_type": "code",
      "metadata": {
        "id": "CCZb70YDG-mp",
        "colab_type": "code",
        "colab": {
          "base_uri": "https://localhost:8080/",
          "height": 302
        },
        "outputId": "6941a5ec-36fe-4c5c-d52d-0143a7e11ed7"
      },
      "source": [
        "pm25_hr_avg.set_index(\"hora_local\",inplace=True) \n",
        "\n",
        "pm25_hr_avg['hr'] = pm25_hr_avg.index.hour\n",
        "\n",
        "pm25_hr_avg.groupby('hr').mean().plot()\n"
      ],
      "execution_count": 108,
      "outputs": [
        {
          "output_type": "execute_result",
          "data": {
            "text/plain": [
              "<matplotlib.axes._subplots.AxesSubplot at 0x7efdef6f0390>"
            ]
          },
          "metadata": {
            "tags": []
          },
          "execution_count": 108
        },
        {
          "output_type": "display_data",
          "data": {
            "image/png": "[encoded data removed]",
            "text/plain": [
              "<Figure size 792x288 with 1 Axes>"
            ]
          },
          "metadata": {
            "tags": []
          }
        }
      ]
    },
    {
      "cell_type": "markdown",
      "metadata": {
        "id": "wB7oMYaHbgiD",
        "colab_type": "text"
      },
      "source": [
        "### ¿Podemos generalizar algo? Ej. ¿Será un efecto de la hora pico?"
      ]
    },
    {
      "cell_type": "code",
      "metadata": {
        "id": "7anWQwAgYkKM",
        "colab_type": "code",
        "colab": {}
      },
      "source": [
        "\n",
        "pm25_hr_avg['dia'] = pm25_hr_avg.index.weekday_name\n",
        "\n",
        "#pm25_hr_avg.drop(columns=[\"PM1.0_CF_ATM_ug/m3\"],inplace=True)\n",
        "\n",
        "# Generar una columna por dia con unstack -2\n",
        "unstacked = pm25_hr_avg.groupby(['dia','hr']).mean().unstack(-2)\n"
      ],
      "execution_count": 0,
      "outputs": []
    },
    {
      "cell_type": "code",
      "metadata": {
        "id": "FfbDH2k3G-mt",
        "colab_type": "code",
        "colab": {
          "base_uri": "https://localhost:8080/",
          "height": 302
        },
        "outputId": "f039e79a-6dc2-417c-c9ba-80006edf1706"
      },
      "source": [
        "unstacked.plot()"
      ],
      "execution_count": 112,
      "outputs": [
        {
          "output_type": "execute_result",
          "data": {
            "text/plain": [
              "<matplotlib.axes._subplots.AxesSubplot at 0x7efdef37d4a8>"
            ]
          },
          "metadata": {
            "tags": []
          },
          "execution_count": 112
        },
        {
          "output_type": "display_data",
          "data": {
            "image/png": "[encoded data removed]",
            "text/plain": [
              "<Figure size 792x288 with 1 Axes>"
            ]
          },
          "metadata": {
            "tags": []
          }
        }
      ]
    },
    {
      "cell_type": "markdown",
      "metadata": {
        "id": "_A-Zh962G-mz",
        "colab_type": "text"
      },
      "source": [
        "### ¿Cuántos minutos al dia hemos pasado por arriba de una concentracion dada?\n",
        "\n",
        "**OJO:** Los intervalos de muestreo no son exactamente iguales"
      ]
    },
    {
      "cell_type": "code",
      "metadata": {
        "id": "mCFiiHpgG-m0",
        "colab_type": "code",
        "colab": {},
        "outputId": "492d5ef9-e18f-40de-bc05-7a22bee75aac"
      },
      "source": [
        "#df[['date','PM2.5_CF_ATM_ug/m3']][df['PM2.5_CF_ATM_ug/m3'] > 40]\n",
        "\n",
        "df[['date','PM2.5_CF_ATM_ug/m3']][df['PM2.5_CF_ATM_ug/m3'] > 40].groupby(['date']).count()\n"
      ],
      "execution_count": 0,
      "outputs": [
        {
          "output_type": "execute_result",
          "data": {
            "text/html": [
              "<div>\n",
              "<style scoped>\n",
              "    .dataframe tbody tr th:only-of-type {\n",
              "        vertical-align: middle;\n",
              "    }\n",
              "\n",
              "    .dataframe tbody tr th {\n",
              "        vertical-align: top;\n",
              "    }\n",
              "\n",
              "    .dataframe thead th {\n",
              "        text-align: right;\n",
              "    }\n",
              "</style>\n",
              "<table border=\"1\" class=\"dataframe\">\n",
              "  <thead>\n",
              "    <tr style=\"text-align: right;\">\n",
              "      <th></th>\n",
              "      <th>PM2.5_CF_ATM_ug/m3</th>\n",
              "    </tr>\n",
              "    <tr>\n",
              "      <th>date</th>\n",
              "      <th></th>\n",
              "    </tr>\n",
              "  </thead>\n",
              "  <tbody>\n",
              "    <tr>\n",
              "      <th>2019-04-01</th>\n",
              "      <td>618</td>\n",
              "    </tr>\n",
              "    <tr>\n",
              "      <th>2019-04-02</th>\n",
              "      <td>895</td>\n",
              "    </tr>\n",
              "    <tr>\n",
              "      <th>2019-04-03</th>\n",
              "      <td>520</td>\n",
              "    </tr>\n",
              "    <tr>\n",
              "      <th>2019-04-04</th>\n",
              "      <td>211</td>\n",
              "    </tr>\n",
              "    <tr>\n",
              "      <th>2019-04-05</th>\n",
              "      <td>62</td>\n",
              "    </tr>\n",
              "    <tr>\n",
              "      <th>2019-04-06</th>\n",
              "      <td>242</td>\n",
              "    </tr>\n",
              "    <tr>\n",
              "      <th>2019-04-07</th>\n",
              "      <td>473</td>\n",
              "    </tr>\n",
              "    <tr>\n",
              "      <th>2019-04-08</th>\n",
              "      <td>2</td>\n",
              "    </tr>\n",
              "    <tr>\n",
              "      <th>2019-04-09</th>\n",
              "      <td>2</td>\n",
              "    </tr>\n",
              "    <tr>\n",
              "      <th>2019-04-11</th>\n",
              "      <td>8</td>\n",
              "    </tr>\n",
              "    <tr>\n",
              "      <th>2019-04-13</th>\n",
              "      <td>310</td>\n",
              "    </tr>\n",
              "    <tr>\n",
              "      <th>2019-04-14</th>\n",
              "      <td>4</td>\n",
              "    </tr>\n",
              "    <tr>\n",
              "      <th>2019-04-15</th>\n",
              "      <td>191</td>\n",
              "    </tr>\n",
              "    <tr>\n",
              "      <th>2019-04-16</th>\n",
              "      <td>227</td>\n",
              "    </tr>\n",
              "    <tr>\n",
              "      <th>2019-04-17</th>\n",
              "      <td>642</td>\n",
              "    </tr>\n",
              "    <tr>\n",
              "      <th>2019-04-18</th>\n",
              "      <td>148</td>\n",
              "    </tr>\n",
              "    <tr>\n",
              "      <th>2019-04-21</th>\n",
              "      <td>29</td>\n",
              "    </tr>\n",
              "    <tr>\n",
              "      <th>2019-04-22</th>\n",
              "      <td>8</td>\n",
              "    </tr>\n",
              "    <tr>\n",
              "      <th>2019-04-23</th>\n",
              "      <td>760</td>\n",
              "    </tr>\n",
              "    <tr>\n",
              "      <th>2019-04-24</th>\n",
              "      <td>676</td>\n",
              "    </tr>\n",
              "    <tr>\n",
              "      <th>2019-04-25</th>\n",
              "      <td>22</td>\n",
              "    </tr>\n",
              "    <tr>\n",
              "      <th>2019-04-27</th>\n",
              "      <td>25</td>\n",
              "    </tr>\n",
              "    <tr>\n",
              "      <th>2019-04-28</th>\n",
              "      <td>210</td>\n",
              "    </tr>\n",
              "    <tr>\n",
              "      <th>2019-04-29</th>\n",
              "      <td>391</td>\n",
              "    </tr>\n",
              "  </tbody>\n",
              "</table>\n",
              "</div>"
            ],
            "text/plain": [
              "            PM2.5_CF_ATM_ug/m3\n",
              "date                          \n",
              "2019-04-01                 618\n",
              "2019-04-02                 895\n",
              "2019-04-03                 520\n",
              "2019-04-04                 211\n",
              "2019-04-05                  62\n",
              "2019-04-06                 242\n",
              "2019-04-07                 473\n",
              "2019-04-08                   2\n",
              "2019-04-09                   2\n",
              "2019-04-11                   8\n",
              "2019-04-13                 310\n",
              "2019-04-14                   4\n",
              "2019-04-15                 191\n",
              "2019-04-16                 227\n",
              "2019-04-17                 642\n",
              "2019-04-18                 148\n",
              "2019-04-21                  29\n",
              "2019-04-22                   8\n",
              "2019-04-23                 760\n",
              "2019-04-24                 676\n",
              "2019-04-25                  22\n",
              "2019-04-27                  25\n",
              "2019-04-28                 210\n",
              "2019-04-29                 391"
            ]
          },
          "metadata": {
            "tags": []
          },
          "execution_count": 21
        }
      ]
    },
    {
      "cell_type": "code",
      "metadata": {
        "id": "4LFN5cLzG-m1",
        "colab_type": "code",
        "colab": {}
      },
      "source": [
        "#pm25_day_avg = df[['date','PM2.5_CF_ATM_ug/m3']][df['PM2.5_CF_ATM_ug/m3'] > 40].groupby(['date']).count()\n",
        "\n",
        "#pm25_day_avg = df[['date','PM2.5_CF_ATM_ug/m3']].groupby(['date']).mean()\n",
        "\n",
        "#!pip install seaborn"
      ],
      "execution_count": 0,
      "outputs": []
    },
    {
      "cell_type": "code",
      "metadata": {
        "id": "6wDGYffvG-m5",
        "colab_type": "code",
        "colab": {}
      },
      "source": [
        "import matplotlib.pyplot as plt\n",
        "import seaborn as sns"
      ],
      "execution_count": 0,
      "outputs": []
    },
    {
      "cell_type": "code",
      "metadata": {
        "id": "dum2J-2zG-m9",
        "colab_type": "code",
        "colab": {
          "base_uri": "https://localhost:8080/",
          "height": 298
        },
        "outputId": "785f67a3-088d-45fe-da04-585925832950"
      },
      "source": [
        "sns.set(rc={'figure.figsize':(11, 4)})\n",
        "df['PM2.5_CF_ATM_ug/m3'].plot(marker=\".\",linewidth=0.5,ylim=(0,200),linestyle='None');\n",
        "\n",
        "#pm25_day_avg['PM2.5_CF_ATM_ug/m3'].plot(marker=\".\",linewidth=0.5);"
      ],
      "execution_count": 49,
      "outputs": [
        {
          "output_type": "display_data",
          "data": {
            "image/png": "[encoded data removed]",
            "text/plain": [
              "<Figure size 792x288 with 1 Axes>"
            ]
          },
          "metadata": {
            "tags": []
          }
        }
      ]
    },
    {
      "cell_type": "markdown",
      "metadata": {
        "id": "FNJphhapcsdg",
        "colab_type": "text"
      },
      "source": [
        "## Funciones de tendencia\n",
        "\n",
        "**Ventanas móviles (rolling)**\n",
        "\n",
        "https://pandas.pydata.org/pandas-docs/version/0.23.4/generated/pandas.DataFrame.rolling.html\n",
        "\n",
        "**Exponenciales** \n",
        "\n",
        "https://pandas.pydata.org/pandas-docs/version/0.23.4/generated/pandas.DataFrame.ewm.html#pandas.DataFrame.ewm\n",
        "\n",
        "\n",
        "**Acumuladas (expanding)**\n",
        "\n",
        "https://www.mikulskibartosz.name/the-difference-between-the-expanding-and-rolling-window-in-pandas/\n",
        "\n",
        "\n",
        "\n",
        "https://pandas.pydata.org/pandas-docs/stable/user_guide/computation.html\n"
      ]
    },
    {
      "cell_type": "code",
      "metadata": {
        "id": "DHT_apyKcQJL",
        "colab_type": "code",
        "colab": {
          "base_uri": "https://localhost:8080/",
          "height": 375
        },
        "outputId": "699b47e4-cc3a-48ff-aa1a-64054bbdd854"
      },
      "source": [
        "## Ej. Sampling por hora\n",
        "\n",
        "df['PM2.5_CF_ATM_ug/m3'].resample(\"h\").mean().plot(marker=\"\",linewidth=0.75,ylim=(0,200),linestyle='-')\n"
      ],
      "execution_count": 122,
      "outputs": [
        {
          "output_type": "stream",
          "text": [
            "/usr/local/lib/python3.6/dist-packages/pandas/core/arrays/datetimes.py:1269: UserWarning: Converting to PeriodArray/Index representation will drop timezone information.\n",
            "  UserWarning,\n"
          ],
          "name": "stderr"
        },
        {
          "output_type": "execute_result",
          "data": {
            "text/plain": [
              "<matplotlib.axes._subplots.AxesSubplot at 0x7efdeef9f5c0>"
            ]
          },
          "metadata": {
            "tags": []
          },
          "execution_count": 122
        },
        {
          "output_type": "display_data",
          "data": {
            "image/png": "[encoded data removed]",
            "text/plain": [
              "<Figure size 792x288 with 1 Axes>"
            ]
          },
          "metadata": {
            "tags": []
          }
        }
      ]
    },
    {
      "cell_type": "code",
      "metadata": {
        "id": "3TkyN9Fzc5dS",
        "colab_type": "code",
        "colab": {
          "base_uri": "https://localhost:8080/",
          "height": 289
        },
        "outputId": "75ab6083-8022-4e84-931b-50f99751e9a3"
      },
      "source": [
        "# Media de cada hora\n",
        "avg = df['PM2.5_CF_ATM_ug/m3'].resample(\"h\").mean()\n",
        "\n",
        "#Tendencia de la media de 4 horas (moving average)\n",
        "\n",
        "mavg = df['PM2.5_CF_ATM_ug/m3'].rolling(\"6H\").mean()\n",
        "\n",
        "fig, ax = plt.subplots()\n",
        "\n",
        "ax.set_ylim(0,100)\n",
        "\n",
        "ax.plot(avg)\n",
        "\n",
        "ax.plot(mavg)\n"
      ],
      "execution_count": 171,
      "outputs": [
        {
          "output_type": "execute_result",
          "data": {
            "text/plain": [
              "[<matplotlib.lines.Line2D at 0x7efdec97f550>]"
            ]
          },
          "metadata": {
            "tags": []
          },
          "execution_count": 171
        },
        {
          "output_type": "display_data",
          "data": {
            "image/png": "[encoded data removed]",
            "text/plain": [
              "<Figure size 792x288 with 1 Axes>"
            ]
          },
          "metadata": {
            "tags": []
          }
        }
      ]
    },
    {
      "cell_type": "markdown",
      "metadata": {
        "id": "DLY7QSF1G-m_",
        "colab_type": "text"
      },
      "source": [
        "### ¿Cuáles son las variaciones por día de la semana?"
      ]
    },
    {
      "cell_type": "code",
      "metadata": {
        "id": "nHYX7fHHG-nA",
        "colab_type": "code",
        "colab": {}
      },
      "source": [
        "#df['Weekday'] = df.index.weekday\n",
        "#sns.boxplot(data=df.loc['2019-04-15':'2019-04-30'], x='Weekday', y='PM2.5_CF_ATM_ug/m3');\n",
        "#TODO: Existen outliers en los primeros días del mes, posibles fuentes locales?"
      ],
      "execution_count": 0,
      "outputs": []
    },
    {
      "cell_type": "code",
      "metadata": {
        "id": "4ueM28isR9SS",
        "colab_type": "code",
        "colab": {
          "base_uri": "https://localhost:8080/",
          "height": 287
        },
        "outputId": "b9af3929-a0b6-4736-ac0f-5272c39e27ce"
      },
      "source": [
        "df['Weekday'] = df.index.weekday_name\n",
        "sns.boxplot(data=df.loc['2019-04-15':'2019-04-30'], x='Weekday', y='PM2.5_CF_ATM_ug/m3');\n"
      ],
      "execution_count": 64,
      "outputs": [
        {
          "output_type": "display_data",
          "data": {
            "image/png": "[encoded data removed]",
            "text/plain": [
              "<Figure size 792x288 with 1 Axes>"
            ]
          },
          "metadata": {
            "tags": []
          }
        }
      ]
    },
    {
      "cell_type": "markdown",
      "metadata": {
        "id": "zM72DIk4SXbU",
        "colab_type": "text"
      },
      "source": [
        "## ¿Por qué necesitamos reporteo en promedios menores de 24 horas?"
      ]
    },
    {
      "cell_type": "code",
      "metadata": {
        "id": "EMDCg53IG-nC",
        "colab_type": "code",
        "colab": {
          "base_uri": "https://localhost:8080/",
          "height": 235
        },
        "outputId": "e896a09e-9747-4a91-8202-e62778d40b6e"
      },
      "source": [
        "data_columns = ['PM2.5_CF_ATM_ug/m3']\n",
        "\n",
        "df_daily_mean = df[data_columns].resample('D').mean()\n",
        "\n",
        "df_4hr_mean = df[data_columns].resample('4H').mean()\n",
        "\n",
        "df_4hr_mean.head()"
      ],
      "execution_count": 71,
      "outputs": [
        {
          "output_type": "execute_result",
          "data": {
            "text/html": [
              "<div>\n",
              "<style scoped>\n",
              "    .dataframe tbody tr th:only-of-type {\n",
              "        vertical-align: middle;\n",
              "    }\n",
              "\n",
              "    .dataframe tbody tr th {\n",
              "        vertical-align: top;\n",
              "    }\n",
              "\n",
              "    .dataframe thead th {\n",
              "        text-align: right;\n",
              "    }\n",
              "</style>\n",
              "<table border=\"1\" class=\"dataframe\">\n",
              "  <thead>\n",
              "    <tr style=\"text-align: right;\">\n",
              "      <th></th>\n",
              "      <th>PM2.5_CF_ATM_ug/m3</th>\n",
              "    </tr>\n",
              "    <tr>\n",
              "      <th>datetime</th>\n",
              "      <th></th>\n",
              "    </tr>\n",
              "  </thead>\n",
              "  <tbody>\n",
              "    <tr>\n",
              "      <th>2019-04-01 00:00:00+00:00</th>\n",
              "      <td>18.664389</td>\n",
              "    </tr>\n",
              "    <tr>\n",
              "      <th>2019-04-01 04:00:00+00:00</th>\n",
              "      <td>7.761722</td>\n",
              "    </tr>\n",
              "    <tr>\n",
              "      <th>2019-04-01 08:00:00+00:00</th>\n",
              "      <td>6.599667</td>\n",
              "    </tr>\n",
              "    <tr>\n",
              "      <th>2019-04-01 12:00:00+00:00</th>\n",
              "      <td>16.698833</td>\n",
              "    </tr>\n",
              "    <tr>\n",
              "      <th>2019-04-01 16:00:00+00:00</th>\n",
              "      <td>36.615611</td>\n",
              "    </tr>\n",
              "  </tbody>\n",
              "</table>\n",
              "</div>"
            ],
            "text/plain": [
              "                           PM2.5_CF_ATM_ug/m3\n",
              "datetime                                     \n",
              "2019-04-01 00:00:00+00:00           18.664389\n",
              "2019-04-01 04:00:00+00:00            7.761722\n",
              "2019-04-01 08:00:00+00:00            6.599667\n",
              "2019-04-01 12:00:00+00:00           16.698833\n",
              "2019-04-01 16:00:00+00:00           36.615611"
            ]
          },
          "metadata": {
            "tags": []
          },
          "execution_count": 71
        }
      ]
    },
    {
      "cell_type": "code",
      "metadata": {
        "id": "6bbFqhZfG-nG",
        "colab_type": "code",
        "colab": {
          "base_uri": "https://localhost:8080/",
          "height": 268
        },
        "outputId": "bb9696f0-4277-4293-e5d2-7e97a2a30059"
      },
      "source": [
        "start, end = '2019-04', '2019-05'\n",
        "\n",
        "df_daily_mean.loc[start]\n",
        "fig, ax = plt.subplots()\n",
        "\n",
        "ax.hlines(25,pd.to_datetime('2019-04-01'),pd.to_datetime('2019-04-29'))\n",
        "\n",
        "ax.plot(df_daily_mean.loc[start:end, data_columns[0]], marker='.', linestyle='-', label='Concentración prom. diaria')\n",
        "\n",
        "ax.plot(df_4hr_mean.loc[start:end, data_columns[0]], marker='+', markersize=8, linewidth=0.5, linestyle='-', label='Concentración prom. 4hr')\n",
        "\n",
        "ax.set_ylabel('Límite OMS: 25 ug / M3')\n",
        "\n",
        "ax.legend();\n"
      ],
      "execution_count": 77,
      "outputs": [
        {
          "output_type": "display_data",
          "data": {
            "image/png": "[encoded data removed]",
            "text/plain": [
              "<Figure size 792x288 with 1 Axes>"
            ]
          },
          "metadata": {
            "tags": []
          }
        }
      ]
    },
    {
      "cell_type": "markdown",
      "metadata": {
        "id": "Kt-0HW65TzkX",
        "colab_type": "text"
      },
      "source": [
        "## Práctica: ¿Cuántos períodos de 4 horas hubo en cada categoría?"
      ]
    },
    {
      "cell_type": "code",
      "metadata": {
        "id": "eW_-jhEDG-nK",
        "colab_type": "code",
        "colab": {
          "base_uri": "https://localhost:8080/",
          "height": 450
        },
        "outputId": "3a568cf1-bbaf-4c19-814b-b9c150815b77"
      },
      "source": [
        "\n",
        "#df_4hr_mean.apply\n",
        "\n",
        "df_4hr_mean[\"AQI2.5\"] = df_4hr_mean[\"PM2.5_CF_ATM_ug/m3\"].apply(AQIPM25)\n",
        "\n",
        "#df_4hr_mean[\"AQI2.5_Cat\"] = "
      ],
      "execution_count": 74,
      "outputs": [
        {
          "output_type": "execute_result",
          "data": {
            "text/html": [
              "<div>\n",
              "<style scoped>\n",
              "    .dataframe tbody tr th:only-of-type {\n",
              "        vertical-align: middle;\n",
              "    }\n",
              "\n",
              "    .dataframe tbody tr th {\n",
              "        vertical-align: top;\n",
              "    }\n",
              "\n",
              "    .dataframe thead th {\n",
              "        text-align: right;\n",
              "    }\n",
              "</style>\n",
              "<table border=\"1\" class=\"dataframe\">\n",
              "  <thead>\n",
              "    <tr style=\"text-align: right;\">\n",
              "      <th></th>\n",
              "      <th>PM2.5_CF_ATM_ug/m3</th>\n",
              "      <th>AQI2.5</th>\n",
              "    </tr>\n",
              "    <tr>\n",
              "      <th>datetime</th>\n",
              "      <th></th>\n",
              "      <th></th>\n",
              "    </tr>\n",
              "  </thead>\n",
              "  <tbody>\n",
              "    <tr>\n",
              "      <th>2019-04-01 00:00:00+00:00</th>\n",
              "      <td>18.664389</td>\n",
              "      <td>65</td>\n",
              "    </tr>\n",
              "    <tr>\n",
              "      <th>2019-04-01 04:00:00+00:00</th>\n",
              "      <td>7.761722</td>\n",
              "      <td>32</td>\n",
              "    </tr>\n",
              "    <tr>\n",
              "      <th>2019-04-01 08:00:00+00:00</th>\n",
              "      <td>6.599667</td>\n",
              "      <td>27</td>\n",
              "    </tr>\n",
              "    <tr>\n",
              "      <th>2019-04-01 12:00:00+00:00</th>\n",
              "      <td>16.698833</td>\n",
              "      <td>60</td>\n",
              "    </tr>\n",
              "    <tr>\n",
              "      <th>2019-04-01 16:00:00+00:00</th>\n",
              "      <td>36.615611</td>\n",
              "      <td>104</td>\n",
              "    </tr>\n",
              "    <tr>\n",
              "      <th>...</th>\n",
              "      <td>...</td>\n",
              "      <td>...</td>\n",
              "    </tr>\n",
              "    <tr>\n",
              "      <th>2019-04-29 04:00:00+00:00</th>\n",
              "      <td>7.784222</td>\n",
              "      <td>32</td>\n",
              "    </tr>\n",
              "    <tr>\n",
              "      <th>2019-04-29 08:00:00+00:00</th>\n",
              "      <td>12.866500</td>\n",
              "      <td>52</td>\n",
              "    </tr>\n",
              "    <tr>\n",
              "      <th>2019-04-29 12:00:00+00:00</th>\n",
              "      <td>16.858944</td>\n",
              "      <td>61</td>\n",
              "    </tr>\n",
              "    <tr>\n",
              "      <th>2019-04-29 16:00:00+00:00</th>\n",
              "      <td>28.724413</td>\n",
              "      <td>86</td>\n",
              "    </tr>\n",
              "    <tr>\n",
              "      <th>2019-04-29 20:00:00+00:00</th>\n",
              "      <td>24.691833</td>\n",
              "      <td>77</td>\n",
              "    </tr>\n",
              "  </tbody>\n",
              "</table>\n",
              "<p>174 rows × 2 columns</p>\n",
              "</div>"
            ],
            "text/plain": [
              "                           PM2.5_CF_ATM_ug/m3  AQI2.5\n",
              "datetime                                             \n",
              "2019-04-01 00:00:00+00:00           18.664389      65\n",
              "2019-04-01 04:00:00+00:00            7.761722      32\n",
              "2019-04-01 08:00:00+00:00            6.599667      27\n",
              "2019-04-01 12:00:00+00:00           16.698833      60\n",
              "2019-04-01 16:00:00+00:00           36.615611     104\n",
              "...                                       ...     ...\n",
              "2019-04-29 04:00:00+00:00            7.784222      32\n",
              "2019-04-29 08:00:00+00:00           12.866500      52\n",
              "2019-04-29 12:00:00+00:00           16.858944      61\n",
              "2019-04-29 16:00:00+00:00           28.724413      86\n",
              "2019-04-29 20:00:00+00:00           24.691833      77\n",
              "\n",
              "[174 rows x 2 columns]"
            ]
          },
          "metadata": {
            "tags": []
          },
          "execution_count": 74
        }
      ]
    },
    {
      "cell_type": "code",
      "metadata": {
        "id": "FW1BwJ5BTNTF",
        "colab_type": "code",
        "colab": {}
      },
      "source": [
        ""
      ],
      "execution_count": 0,
      "outputs": []
    }
  ]
}